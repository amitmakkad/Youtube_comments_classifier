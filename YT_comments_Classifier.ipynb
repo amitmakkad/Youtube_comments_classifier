{
  "cells": [
    {
      "cell_type": "markdown",
      "metadata": {
        "id": "view-in-github",
        "colab_type": "text"
      },
      "source": [
        "<a href=\"https://colab.research.google.com/github/amitmakkad/Youtube_comments_classifier/blob/main/YT_comments_Classifier.ipynb\" target=\"_parent\"><img src=\"https://colab.research.google.com/assets/colab-badge.svg\" alt=\"Open In Colab\"/></a>"
      ]
    },
    {
      "cell_type": "code",
      "execution_count": null,
      "metadata": {
        "colab": {
          "base_uri": "https://localhost:8080/"
        },
        "id": "nKg3lyTsRKH9",
        "outputId": "08d60b11-7e3b-4d33-a6ba-b19b0efb888e"
      },
      "outputs": [
        {
          "name": "stdout",
          "output_type": "stream",
          "text": [
            "Collecting autocorrect\n",
            "  Downloading autocorrect-2.6.1.tar.gz (622 kB)\n",
            "\u001b[2K     \u001b[90m━━━━━━━━━━━━━━━━━━━━━━━━━━━━━━━━━━━━━━━━\u001b[0m \u001b[32m622.8/622.8 kB\u001b[0m \u001b[31m7.7 MB/s\u001b[0m eta \u001b[36m0:00:00\u001b[0m\n",
            "\u001b[?25h  Preparing metadata (setup.py) ... \u001b[?25l\u001b[?25hdone\n",
            "Building wheels for collected packages: autocorrect\n",
            "  Building wheel for autocorrect (setup.py) ... \u001b[?25l\u001b[?25hdone\n",
            "  Created wheel for autocorrect: filename=autocorrect-2.6.1-py3-none-any.whl size=622364 sha256=b825048e77b5c23e8cc60f85fa8310e5f24281c68d7b2d3c0b73b95dd1a33717\n",
            "  Stored in directory: /root/.cache/pip/wheels/b5/7b/6d/b76b29ce11ff8e2521c8c7dd0e5bfee4fb1789d76193124343\n",
            "Successfully built autocorrect\n",
            "Installing collected packages: autocorrect\n",
            "Successfully installed autocorrect-2.6.1\n"
          ]
        }
      ],
      "source": [
        "!pip install autocorrect"
      ]
    },
    {
      "cell_type": "code",
      "execution_count": null,
      "metadata": {
        "id": "EGnnEmr7Q7T3"
      },
      "outputs": [],
      "source": [
        "import pandas as pd\n",
        "import numpy as np\n",
        "from collections import Counter\n",
        "import matplotlib.pyplot as plt\n",
        "import re\n",
        "import nltk\n",
        "import time\n",
        "from autocorrect import Speller\n",
        "from nltk.corpus import stopwords\n",
        "from sklearn.feature_extraction.text import CountVectorizer\n",
        "from sklearn.feature_extraction.text import TfidfVectorizer\n",
        "from sklearn.model_selection import train_test_split\n",
        "from sklearn.linear_model import LogisticRegression\n",
        "from sklearn.ensemble import RandomForestClassifier\n",
        "from sklearn.naive_bayes import MultinomialNB\n",
        "from sklearn.svm import LinearSVC\n",
        "from sklearn.model_selection import cross_val_score\n",
        "from sklearn.tree import DecisionTreeClassifier\n",
        "from sklearn.metrics import accuracy_score\n",
        "from gensim.models import KeyedVectors\n",
        "from gensim.models import Word2Vec\n",
        "from sklearn.pipeline import Pipeline\n",
        "from sklearn.preprocessing import MinMaxScaler"
      ]
    },
    {
      "cell_type": "code",
      "execution_count": null,
      "metadata": {
        "id": "ITpnW-tuaqow"
      },
      "outputs": [],
      "source": [
        "import warnings\n",
        "warnings.filterwarnings('ignore')"
      ]
    },
    {
      "cell_type": "code",
      "execution_count": null,
      "metadata": {
        "colab": {
          "base_uri": "https://localhost:8080/"
        },
        "id": "1_-c4Q1pRSbo",
        "outputId": "c999231b-3f97-40cb-f290-fd8ae02b8f89"
      },
      "outputs": [
        {
          "output_type": "stream",
          "name": "stdout",
          "text": [
            "Drive already mounted at /content/drive; to attempt to forcibly remount, call drive.mount(\"/content/drive\", force_remount=True).\n"
          ]
        }
      ],
      "source": [
        "from google.colab import drive\n",
        "drive.mount('/content/drive')"
      ]
    },
    {
      "cell_type": "code",
      "execution_count": null,
      "metadata": {
        "colab": {
          "base_uri": "https://localhost:8080/",
          "height": 423
        },
        "id": "0WAlGWKjRhed",
        "outputId": "5dfdef19-9d73-4df1-8ad6-f90f13be1a69"
      },
      "outputs": [
        {
          "data": {
            "text/html": [
              "\n",
              "  <div id=\"df-6c52436a-36dd-4c7d-bb00-87591258af3a\" class=\"colab-df-container\">\n",
              "    <div>\n",
              "<style scoped>\n",
              "    .dataframe tbody tr th:only-of-type {\n",
              "        vertical-align: middle;\n",
              "    }\n",
              "\n",
              "    .dataframe tbody tr th {\n",
              "        vertical-align: top;\n",
              "    }\n",
              "\n",
              "    .dataframe thead th {\n",
              "        text-align: right;\n",
              "    }\n",
              "</style>\n",
              "<table border=\"1\" class=\"dataframe\">\n",
              "  <thead>\n",
              "    <tr style=\"text-align: right;\">\n",
              "      <th></th>\n",
              "      <th>0</th>\n",
              "      <th>1</th>\n",
              "    </tr>\n",
              "  </thead>\n",
              "  <tbody>\n",
              "    <tr>\n",
              "      <th>1</th>\n",
              "      <td>Love you sir!!</td>\n",
              "      <td>positive</td>\n",
              "    </tr>\n",
              "    <tr>\n",
              "      <th>2</th>\n",
              "      <td>Please make videos on..Midpoint circle drawing...</td>\n",
              "      <td>imperative</td>\n",
              "    </tr>\n",
              "    <tr>\n",
              "      <th>3</th>\n",
              "      <td>I bought both of your courses on Udemy. You ar...</td>\n",
              "      <td>interrogative</td>\n",
              "    </tr>\n",
              "    <tr>\n",
              "      <th>4</th>\n",
              "      <td>Thank you very much, u really got me in the fi...</td>\n",
              "      <td>positive</td>\n",
              "    </tr>\n",
              "    <tr>\n",
              "      <th>5</th>\n",
              "      <td>i hope u are ok with everything going on again...</td>\n",
              "      <td>miscellaneous</td>\n",
              "    </tr>\n",
              "    <tr>\n",
              "      <th>...</th>\n",
              "      <td>...</td>\n",
              "      <td>...</td>\n",
              "    </tr>\n",
              "    <tr>\n",
              "      <th>9996</th>\n",
              "      <td>THIS IS GOLD! Absolute peach of a video. But I...</td>\n",
              "      <td>positive</td>\n",
              "    </tr>\n",
              "    <tr>\n",
              "      <th>9997</th>\n",
              "      <td>This is helpful, how to decode a logical conte...</td>\n",
              "      <td>interrogative</td>\n",
              "    </tr>\n",
              "    <tr>\n",
              "      <th>9998</th>\n",
              "      <td>wow. reading this slowly actually helped me se...</td>\n",
              "      <td>positive</td>\n",
              "    </tr>\n",
              "    <tr>\n",
              "      <th>9999</th>\n",
              "      <td>Great video sir, really helped a lot.keep goin...</td>\n",
              "      <td>positive</td>\n",
              "    </tr>\n",
              "    <tr>\n",
              "      <th>10000</th>\n",
              "      <td>Oh damn! u deserve a lot many subscribers than...</td>\n",
              "      <td>interrogative</td>\n",
              "    </tr>\n",
              "  </tbody>\n",
              "</table>\n",
              "<p>10000 rows × 2 columns</p>\n",
              "</div>\n",
              "    <div class=\"colab-df-buttons\">\n",
              "\n",
              "  <div class=\"colab-df-container\">\n",
              "    <button class=\"colab-df-convert\" onclick=\"convertToInteractive('df-6c52436a-36dd-4c7d-bb00-87591258af3a')\"\n",
              "            title=\"Convert this dataframe to an interactive table.\"\n",
              "            style=\"display:none;\">\n",
              "\n",
              "  <svg xmlns=\"http://www.w3.org/2000/svg\" height=\"24px\" viewBox=\"0 -960 960 960\">\n",
              "    <path d=\"M120-120v-720h720v720H120Zm60-500h600v-160H180v160Zm220 220h160v-160H400v160Zm0 220h160v-160H400v160ZM180-400h160v-160H180v160Zm440 0h160v-160H620v160ZM180-180h160v-160H180v160Zm440 0h160v-160H620v160Z\"/>\n",
              "  </svg>\n",
              "    </button>\n",
              "\n",
              "  <style>\n",
              "    .colab-df-container {\n",
              "      display:flex;\n",
              "      gap: 12px;\n",
              "    }\n",
              "\n",
              "    .colab-df-convert {\n",
              "      background-color: #E8F0FE;\n",
              "      border: none;\n",
              "      border-radius: 50%;\n",
              "      cursor: pointer;\n",
              "      display: none;\n",
              "      fill: #1967D2;\n",
              "      height: 32px;\n",
              "      padding: 0 0 0 0;\n",
              "      width: 32px;\n",
              "    }\n",
              "\n",
              "    .colab-df-convert:hover {\n",
              "      background-color: #E2EBFA;\n",
              "      box-shadow: 0px 1px 2px rgba(60, 64, 67, 0.3), 0px 1px 3px 1px rgba(60, 64, 67, 0.15);\n",
              "      fill: #174EA6;\n",
              "    }\n",
              "\n",
              "    .colab-df-buttons div {\n",
              "      margin-bottom: 4px;\n",
              "    }\n",
              "\n",
              "    [theme=dark] .colab-df-convert {\n",
              "      background-color: #3B4455;\n",
              "      fill: #D2E3FC;\n",
              "    }\n",
              "\n",
              "    [theme=dark] .colab-df-convert:hover {\n",
              "      background-color: #434B5C;\n",
              "      box-shadow: 0px 1px 3px 1px rgba(0, 0, 0, 0.15);\n",
              "      filter: drop-shadow(0px 1px 2px rgba(0, 0, 0, 0.3));\n",
              "      fill: #FFFFFF;\n",
              "    }\n",
              "  </style>\n",
              "\n",
              "    <script>\n",
              "      const buttonEl =\n",
              "        document.querySelector('#df-6c52436a-36dd-4c7d-bb00-87591258af3a button.colab-df-convert');\n",
              "      buttonEl.style.display =\n",
              "        google.colab.kernel.accessAllowed ? 'block' : 'none';\n",
              "\n",
              "      async function convertToInteractive(key) {\n",
              "        const element = document.querySelector('#df-6c52436a-36dd-4c7d-bb00-87591258af3a');\n",
              "        const dataTable =\n",
              "          await google.colab.kernel.invokeFunction('convertToInteractive',\n",
              "                                                    [key], {});\n",
              "        if (!dataTable) return;\n",
              "\n",
              "        const docLinkHtml = 'Like what you see? Visit the ' +\n",
              "          '<a target=\"_blank\" href=https://colab.research.google.com/notebooks/data_table.ipynb>data table notebook</a>'\n",
              "          + ' to learn more about interactive tables.';\n",
              "        element.innerHTML = '';\n",
              "        dataTable['output_type'] = 'display_data';\n",
              "        await google.colab.output.renderOutput(dataTable, element);\n",
              "        const docLink = document.createElement('div');\n",
              "        docLink.innerHTML = docLinkHtml;\n",
              "        element.appendChild(docLink);\n",
              "      }\n",
              "    </script>\n",
              "  </div>\n",
              "\n",
              "\n",
              "<div id=\"df-f225431c-017b-4a2a-b311-3c628b1e6f80\">\n",
              "  <button class=\"colab-df-quickchart\" onclick=\"quickchart('df-f225431c-017b-4a2a-b311-3c628b1e6f80')\"\n",
              "            title=\"Suggest charts\"\n",
              "            style=\"display:none;\">\n",
              "\n",
              "<svg xmlns=\"http://www.w3.org/2000/svg\" height=\"24px\"viewBox=\"0 0 24 24\"\n",
              "     width=\"24px\">\n",
              "    <g>\n",
              "        <path d=\"M19 3H5c-1.1 0-2 .9-2 2v14c0 1.1.9 2 2 2h14c1.1 0 2-.9 2-2V5c0-1.1-.9-2-2-2zM9 17H7v-7h2v7zm4 0h-2V7h2v10zm4 0h-2v-4h2v4z\"/>\n",
              "    </g>\n",
              "</svg>\n",
              "  </button>\n",
              "\n",
              "<style>\n",
              "  .colab-df-quickchart {\n",
              "      --bg-color: #E8F0FE;\n",
              "      --fill-color: #1967D2;\n",
              "      --hover-bg-color: #E2EBFA;\n",
              "      --hover-fill-color: #174EA6;\n",
              "      --disabled-fill-color: #AAA;\n",
              "      --disabled-bg-color: #DDD;\n",
              "  }\n",
              "\n",
              "  [theme=dark] .colab-df-quickchart {\n",
              "      --bg-color: #3B4455;\n",
              "      --fill-color: #D2E3FC;\n",
              "      --hover-bg-color: #434B5C;\n",
              "      --hover-fill-color: #FFFFFF;\n",
              "      --disabled-bg-color: #3B4455;\n",
              "      --disabled-fill-color: #666;\n",
              "  }\n",
              "\n",
              "  .colab-df-quickchart {\n",
              "    background-color: var(--bg-color);\n",
              "    border: none;\n",
              "    border-radius: 50%;\n",
              "    cursor: pointer;\n",
              "    display: none;\n",
              "    fill: var(--fill-color);\n",
              "    height: 32px;\n",
              "    padding: 0;\n",
              "    width: 32px;\n",
              "  }\n",
              "\n",
              "  .colab-df-quickchart:hover {\n",
              "    background-color: var(--hover-bg-color);\n",
              "    box-shadow: 0 1px 2px rgba(60, 64, 67, 0.3), 0 1px 3px 1px rgba(60, 64, 67, 0.15);\n",
              "    fill: var(--button-hover-fill-color);\n",
              "  }\n",
              "\n",
              "  .colab-df-quickchart-complete:disabled,\n",
              "  .colab-df-quickchart-complete:disabled:hover {\n",
              "    background-color: var(--disabled-bg-color);\n",
              "    fill: var(--disabled-fill-color);\n",
              "    box-shadow: none;\n",
              "  }\n",
              "\n",
              "  .colab-df-spinner {\n",
              "    border: 2px solid var(--fill-color);\n",
              "    border-color: transparent;\n",
              "    border-bottom-color: var(--fill-color);\n",
              "    animation:\n",
              "      spin 1s steps(1) infinite;\n",
              "  }\n",
              "\n",
              "  @keyframes spin {\n",
              "    0% {\n",
              "      border-color: transparent;\n",
              "      border-bottom-color: var(--fill-color);\n",
              "      border-left-color: var(--fill-color);\n",
              "    }\n",
              "    20% {\n",
              "      border-color: transparent;\n",
              "      border-left-color: var(--fill-color);\n",
              "      border-top-color: var(--fill-color);\n",
              "    }\n",
              "    30% {\n",
              "      border-color: transparent;\n",
              "      border-left-color: var(--fill-color);\n",
              "      border-top-color: var(--fill-color);\n",
              "      border-right-color: var(--fill-color);\n",
              "    }\n",
              "    40% {\n",
              "      border-color: transparent;\n",
              "      border-right-color: var(--fill-color);\n",
              "      border-top-color: var(--fill-color);\n",
              "    }\n",
              "    60% {\n",
              "      border-color: transparent;\n",
              "      border-right-color: var(--fill-color);\n",
              "    }\n",
              "    80% {\n",
              "      border-color: transparent;\n",
              "      border-right-color: var(--fill-color);\n",
              "      border-bottom-color: var(--fill-color);\n",
              "    }\n",
              "    90% {\n",
              "      border-color: transparent;\n",
              "      border-bottom-color: var(--fill-color);\n",
              "    }\n",
              "  }\n",
              "</style>\n",
              "\n",
              "  <script>\n",
              "    async function quickchart(key) {\n",
              "      const quickchartButtonEl =\n",
              "        document.querySelector('#' + key + ' button');\n",
              "      quickchartButtonEl.disabled = true;  // To prevent multiple clicks.\n",
              "      quickchartButtonEl.classList.add('colab-df-spinner');\n",
              "      try {\n",
              "        const charts = await google.colab.kernel.invokeFunction(\n",
              "            'suggestCharts', [key], {});\n",
              "      } catch (error) {\n",
              "        console.error('Error during call to suggestCharts:', error);\n",
              "      }\n",
              "      quickchartButtonEl.classList.remove('colab-df-spinner');\n",
              "      quickchartButtonEl.classList.add('colab-df-quickchart-complete');\n",
              "    }\n",
              "    (() => {\n",
              "      let quickchartButtonEl =\n",
              "        document.querySelector('#df-f225431c-017b-4a2a-b311-3c628b1e6f80 button');\n",
              "      quickchartButtonEl.style.display =\n",
              "        google.colab.kernel.accessAllowed ? 'block' : 'none';\n",
              "    })();\n",
              "  </script>\n",
              "</div>\n",
              "    </div>\n",
              "  </div>\n"
            ],
            "text/plain": [
              "                                                       0              1\n",
              "1                                         Love you sir!!       positive\n",
              "2      Please make videos on..Midpoint circle drawing...     imperative\n",
              "3      I bought both of your courses on Udemy. You ar...  interrogative\n",
              "4      Thank you very much, u really got me in the fi...       positive\n",
              "5      i hope u are ok with everything going on again...  miscellaneous\n",
              "...                                                  ...            ...\n",
              "9996   THIS IS GOLD! Absolute peach of a video. But I...       positive\n",
              "9997   This is helpful, how to decode a logical conte...  interrogative\n",
              "9998   wow. reading this slowly actually helped me se...       positive\n",
              "9999   Great video sir, really helped a lot.keep goin...       positive\n",
              "10000  Oh damn! u deserve a lot many subscribers than...  interrogative\n",
              "\n",
              "[10000 rows x 2 columns]"
            ]
          },
          "execution_count": 5,
          "metadata": {},
          "output_type": "execute_result"
        }
      ],
      "source": [
        "import pandas as pd\n",
        "df=pd.read_csv(\"/content/drive/MyDrive/final_data.csv\",header=None)\n",
        "df.drop(0)"
      ]
    },
    {
      "cell_type": "code",
      "execution_count": null,
      "metadata": {
        "id": "o7UNN6PqYuAw"
      },
      "outputs": [],
      "source": [
        "df = df[df[1] != 'sentiment']"
      ]
    },
    {
      "cell_type": "code",
      "execution_count": null,
      "metadata": {
        "colab": {
          "base_uri": "https://localhost:8080/"
        },
        "id": "J1yPWD5xRxOP",
        "outputId": "985eae51-66bc-4d51-e93e-d4964892f093"
      },
      "outputs": [
        {
          "data": {
            "text/plain": [
              "array(['positive', 'imperative', 'interrogative', 'miscellaneous',\n",
              "       'corrective', 'negative'], dtype=object)"
            ]
          },
          "execution_count": 7,
          "metadata": {},
          "output_type": "execute_result"
        }
      ],
      "source": [
        "df[1].unique()"
      ]
    },
    {
      "cell_type": "code",
      "execution_count": null,
      "metadata": {
        "colab": {
          "base_uri": "https://localhost:8080/"
        },
        "id": "ApX1MA29SIV2",
        "outputId": "3c389fe8-024a-42af-ed83-0eebf75b6084"
      },
      "outputs": [
        {
          "data": {
            "text/plain": [
              "False"
            ]
          },
          "execution_count": 8,
          "metadata": {},
          "output_type": "execute_result"
        }
      ],
      "source": [
        "df = df.drop_duplicates()\n",
        "df.duplicated().any()"
      ]
    },
    {
      "cell_type": "code",
      "execution_count": null,
      "metadata": {
        "colab": {
          "base_uri": "https://localhost:8080/",
          "height": 472
        },
        "id": "Nn5sir-giQ8x",
        "outputId": "9ad056d5-9466-4136-bc7a-fa50b54c4d58"
      },
      "outputs": [
        {
          "data": {
            "image/png": "[encoded data removed]",
            "text/plain": [
              "<Figure size 640x480 with 1 Axes>"
            ]
          },
          "metadata": {},
          "output_type": "display_data"
        }
      ],
      "source": [
        "# Plotting the distribution for dataset.\n",
        "ax = df.groupby(1).count().plot(kind='bar', title='Distribution of data',legend=False)\n",
        "ax.set_xticklabels(['positive', 'imperative',\n",
        "       'interrogative', 'miscellaneous','corrective','negative'], rotation=0)\n",
        "# Storing data in lists.\n",
        "text, sentiment = list(df[0]), list(df[1])"
      ]
    },
    {
      "cell_type": "code",
      "execution_count": null,
      "metadata": {
        "id": "yY2aIJ9USR5N"
      },
      "outputs": [],
      "source": [
        "# changing to lowercase\n",
        "df[0] = df[0].str.lower()\n",
        "\n",
        "# removing urls\n",
        "df[0] = df[0].str.replace('http\\S+|www.\\S+', '', case=False)\n",
        "\n",
        "# removing new lines \"\\n\"\n",
        "df[0] = df[0].str.replace('\\n',' ', regex=True)\n",
        "\n",
        "# removing all the punctuations\n",
        "df[0] = df[0].str.replace('[^\\w\\s]',' ')\n",
        "\n",
        "# removing integers\n",
        "df[0] = df[0].str.replace('\\d','', regex=True)\n",
        "\n",
        "# removing emojis\n",
        "df[0] = df[0].str.replace('[^\\w\\s#@/:%.,_-]', ' ', flags=re.UNICODE)"
      ]
    },
    {
      "cell_type": "code",
      "execution_count": null,
      "metadata": {
        "id": "IclH9wdiN8Zf"
      },
      "outputs": [],
      "source": [
        "sentiment_mapping = {\n",
        "    'positive': 0,\n",
        "    'imperative': 1,\n",
        "    'interrogative': 2,\n",
        "    'miscellaneous': 3,\n",
        "    'corrective': 4,\n",
        "    'negative': 5\n",
        "}\n",
        "df[1] = df[1].map(sentiment_mapping)"
      ]
    },
    {
      "cell_type": "code",
      "execution_count": null,
      "metadata": {
        "colab": {
          "base_uri": "https://localhost:8080/"
        },
        "id": "cXoM3MGciwv7",
        "outputId": "1e5bf1f1-63d0-4215-b41d-2468661550ca"
      },
      "outputs": [
        {
          "name": "stderr",
          "output_type": "stream",
          "text": [
            "[nltk_data] Downloading package stopwords to /root/nltk_data...\n",
            "[nltk_data]   Unzipping corpora/stopwords.zip.\n"
          ]
        },
        {
          "data": {
            "text/plain": [
              "1                                             love sir\n",
              "2    please make videos midpoint circle drawing bre...\n",
              "3    bought courses udemy talented teacher keep pro...\n",
              "4    thank much u really got first video algorithm ...\n",
              "5             hope u ok everything going muslims indea\n",
              "Name: 0, dtype: object"
            ]
          },
          "execution_count": 12,
          "metadata": {},
          "output_type": "execute_result"
        }
      ],
      "source": [
        "nltk.download('stopwords')\n",
        "stop_words = set(stopwords.words('english'))\n",
        "\n",
        "def cleaning_stopwords(text):\n",
        "    return \" \".join([word for word in str(text).split() if word not in stop_words])\n",
        "\n",
        "df[0] = df[0].apply(lambda text: cleaning_stopwords(text))\n",
        "\n",
        "df[0].head()"
      ]
    },
    {
      "cell_type": "code",
      "execution_count": null,
      "metadata": {
        "colab": {
          "base_uri": "https://localhost:8080/",
          "height": 285
        },
        "id": "PLbyL-CTTbG0",
        "outputId": "99b22f48-9ce7-4689-8d7f-7f883dabc3ce"
      },
      "outputs": [
        {
          "data": {
            "image/png": "[encoded data removed]",
            "text/plain": [
              "<Figure size 640x480 with 1 Axes>"
            ]
          },
          "metadata": {},
          "output_type": "display_data"
        }
      ],
      "source": [
        "from wordcloud import WordCloud\n",
        "text = df[0].values\n",
        "\n",
        "wordcloud = WordCloud(background_color='white',collocations=False).generate(str(text))\n",
        "\n",
        "plt.imshow(wordcloud)\n",
        "plt.axis(\"off\")\n",
        "plt.show()"
      ]
    },
    {
      "cell_type": "code",
      "execution_count": null,
      "metadata": {
        "colab": {
          "base_uri": "https://localhost:8080/"
        },
        "id": "bIBasA2jTzBt",
        "outputId": "14187a00-eaff-41e4-c4e3-f559168dd56a"
      },
      "outputs": [
        {
          "name": "stderr",
          "output_type": "stream",
          "text": [
            "[nltk_data] Downloading package wordnet to /root/nltk_data...\n"
          ]
        }
      ],
      "source": [
        "nltk.download('wordnet')\n",
        "lemmatizer = nltk.stem.WordNetLemmatizer()\n",
        "def lemmatize_text(text):\n",
        "    return lemmatizer.lemmatize(text)\n",
        "\n",
        "df[0] = df[0].apply(lemmatize_text)"
      ]
    },
    {
      "cell_type": "code",
      "execution_count": null,
      "metadata": {
        "id": "VdgYe-c7Tgz3"
      },
      "outputs": [],
      "source": [
        "spell = Speller(lang='en')\n",
        "\n",
        "def typo_corrector(text):\n",
        "    return spell(text)\n",
        "\n",
        "df[0] = df[0].apply(typo_corrector)"
      ]
    },
    {
      "cell_type": "code",
      "execution_count": null,
      "metadata": {
        "id": "m02iGQh_aMsL"
      },
      "outputs": [],
      "source": [
        "classifiers = {\n",
        "    'MultinomialNB': MultinomialNB(),\n",
        "    'RandomForest': RandomForestClassifier(),\n",
        "    'LinearSVC': LinearSVC(),\n",
        "    'LogisticRegression': LogisticRegression(),\n",
        "    'DecisionTree': DecisionTreeClassifier()\n",
        "}\n",
        "def create_pipeline(classifier):\n",
        "    return Pipeline([('Normalizing', MinMaxScaler()), (classifier.__class__.__name__, classifier)])\n"
      ]
    },
    {
      "cell_type": "code",
      "execution_count": null,
      "metadata": {
        "id": "e8N4kQE3aP_n",
        "colab": {
          "base_uri": "https://localhost:8080/"
        },
        "outputId": "8eea932c-3139-4e78-d996-2d53a9dbf7d0"
      },
      "outputs": [
        {
          "output_type": "stream",
          "name": "stdout",
          "text": [
            "MultinomialNB:\n",
            "Accuracy: 0.6481\n",
            "-------------------------\n",
            "RandomForest:\n",
            "Accuracy: 0.6507\n",
            "-------------------------\n",
            "LinearSVC:\n",
            "Accuracy: 0.6410\n",
            "-------------------------\n",
            "LogisticRegression:\n",
            "Accuracy: 0.6701\n",
            "-------------------------\n",
            "DecisionTree:\n",
            "Accuracy: 0.5914\n",
            "-------------------------\n"
          ]
        }
      ],
      "source": [
        "X = df[0]  # Assuming the comments are in the first column\n",
        "y = df[1]  # Assuming the sentiments are in the second column\n",
        "\n",
        "# Text preprocessing using Bag of Words (BoW) representation\n",
        "count_vectorizer = CountVectorizer()\n",
        "X_bow = count_vectorizer.fit_transform(X)\n",
        "\n",
        "# Split data into training and testing sets\n",
        "X_train, X_test, y_train, y_test = train_test_split(X_bow, y, test_size=0.2, random_state=42)\n",
        "\n",
        "for clf_name, clf in classifiers.items():\n",
        "    clf.fit(X_train, y_train)  # Train the classifier\n",
        "\n",
        "    y_pred = clf.predict(X_test)  # Predict using the test set\n",
        "\n",
        "    accuracy = accuracy_score(y_test, y_pred)  # Evaluate accuracy\n",
        "    print(f\"{clf_name}:\")\n",
        "    print(f\"Accuracy: {accuracy:.4f}\")\n",
        "    print(\"-------------------------\")"
      ]
    },
    {
      "cell_type": "code",
      "execution_count": null,
      "metadata": {
        "id": "EFtLqXLkbhCh",
        "colab": {
          "base_uri": "https://localhost:8080/"
        },
        "outputId": "945f7246-5c4c-4e1a-f7bb-92146642b209"
      },
      "outputs": [
        {
          "output_type": "stream",
          "name": "stdout",
          "text": [
            "MultinomialNB:\n",
            "Accuracy: 0.6348\n",
            "-------------------------\n",
            "RandomForest:\n",
            "Accuracy: 0.6747\n",
            "-------------------------\n",
            "LinearSVC:\n",
            "Accuracy: 0.6757\n",
            "-------------------------\n",
            "LogisticRegression:\n",
            "Accuracy: 0.6936\n",
            "-------------------------\n",
            "DecisionTree:\n",
            "Accuracy: 0.5787\n",
            "-------------------------\n"
          ]
        }
      ],
      "source": [
        "tfidf_vectorizer = TfidfVectorizer()\n",
        "X_tfidf = tfidf_vectorizer.fit_transform(X)\n",
        "\n",
        "# Split data into training and testing sets\n",
        "X_train, X_test, y_train, y_test = train_test_split(X_tfidf, y, test_size=0.2, random_state=42)\n",
        "\n",
        "for clf_name, clf in classifiers.items():\n",
        "    clf.fit(X_train, y_train)  # Train the classifier\n",
        "\n",
        "    y_pred = clf.predict(X_test)  # Predict using the test set\n",
        "\n",
        "    accuracy = accuracy_score(y_test, y_pred)  # Evaluate accuracy\n",
        "    print(f\"{clf_name}:\")\n",
        "    print(f\"Accuracy: {accuracy:.4f}\")\n",
        "    print(\"-------------------------\")\n"
      ]
    },
    {
      "cell_type": "code",
      "source": [
        "nltk.download('punkt')"
      ],
      "metadata": {
        "colab": {
          "base_uri": "https://localhost:8080/"
        },
        "id": "z1xrHKKyzLCu",
        "outputId": "94955916-95b3-4b65-df1b-eecdf9ead6e7"
      },
      "execution_count": null,
      "outputs": [
        {
          "output_type": "stream",
          "name": "stderr",
          "text": [
            "[nltk_data] Downloading package punkt to /root/nltk_data...\n",
            "[nltk_data]   Unzipping tokenizers/punkt.zip.\n"
          ]
        },
        {
          "output_type": "execute_result",
          "data": {
            "text/plain": [
              "True"
            ]
          },
          "metadata": {},
          "execution_count": 41
        }
      ]
    },
    {
      "cell_type": "code",
      "execution_count": null,
      "metadata": {
        "id": "kB8pLLV9c24M",
        "colab": {
          "base_uri": "https://localhost:8080/"
        },
        "outputId": "b3bebfaf-b994-434a-82af-e331f2ef6bf0"
      },
      "outputs": [
        {
          "output_type": "stream",
          "name": "stdout",
          "text": [
            "MultinomialNB:\n",
            "Accuracy: 0.4796\n",
            "-------------------------\n",
            "RandomForest:\n",
            "Accuracy: 0.6210\n",
            "-------------------------\n",
            "LinearSVC:\n",
            "Accuracy: 0.6307\n",
            "-------------------------\n",
            "LogisticRegression:\n",
            "Accuracy: 0.6113\n",
            "-------------------------\n",
            "DecisionTree:\n",
            "Accuracy: 0.4898\n",
            "-------------------------\n"
          ]
        }
      ],
      "source": [
        "sentences = [nltk.word_tokenize(comment.lower()) for comment in X]\n",
        "\n",
        "# Train Word2Vec embeddings\n",
        "word2vec_model = Word2Vec(sentences, vector_size=100, window=5, min_count=1, sg=0)\n",
        "\n",
        "# Get Word2Vec embeddings for each comment by averaging word vectors\n",
        "def generate_embedding(sentence):\n",
        "    word_embeddings = [word2vec_model.wv[word] for word in nltk.word_tokenize(sentence.lower()) if word in word2vec_model.wv]\n",
        "    if not word_embeddings:\n",
        "        return [0] * word2vec_model.vector_size\n",
        "    return sum(word_embeddings) / len(word_embeddings)\n",
        "\n",
        "# Generate embeddings for all sentences\n",
        "X_word2vec = [generate_embedding(sentence) for sentence in X]\n",
        "\n",
        "# Split data into training and testing sets\n",
        "X_train, X_test, y_train, y_test = train_test_split(X_word2vec, y, test_size=0.2, random_state=42)\n",
        "\n",
        "\n",
        "# Train and evaluate each classifier\n",
        "for clf_name, clf in classifiers.items():\n",
        "    pipeline = create_pipeline(clf)\n",
        "    pipeline.fit(X_train, y_train)  # Train the classifier\n",
        "\n",
        "    y_pred = pipeline.predict(X_test)  # Predict using the test set\n",
        "\n",
        "    accuracy = accuracy_score(y_test, y_pred)  # Evaluate accuracy\n",
        "    print(f\"{clf_name}:\")\n",
        "    print(f\"Accuracy: {accuracy:.4f}\")\n",
        "    print(\"-------------------------\")"
      ]
    },
    {
      "cell_type": "code",
      "execution_count": null,
      "metadata": {
        "id": "48T5RTJuharQ"
      },
      "outputs": [],
      "source": [
        "from keras.models import Sequential\n",
        "from keras.preprocessing.text import Tokenizer\n",
        "from keras.preprocessing.sequence import pad_sequences\n",
        "from keras.layers import Dense, Embedding, LSTM, SpatialDropout1D\n",
        "from sklearn.model_selection import train_test_split\n",
        "import matplotlib.pyplot as plt"
      ]
    },
    {
      "cell_type": "code",
      "execution_count": null,
      "metadata": {
        "id": "77Y0IULRycAp"
      },
      "outputs": [],
      "source": [
        "tokenizer = Tokenizer(num_words=500, split=' ')\n",
        "tokenizer.fit_on_texts(df[0].values)\n",
        "X_learn = tokenizer.texts_to_sequences(df[0].values)\n",
        "word_index = tokenizer.word_index\n",
        "vocab_size = len(word_index) + 1\n",
        "\n",
        "X_learn = pad_sequences(X_learn)"
      ]
    },
    {
      "cell_type": "code",
      "execution_count": null,
      "metadata": {
        "id": "S2exvjppynXT",
        "colab": {
          "base_uri": "https://localhost:8080/"
        },
        "outputId": "057e3b46-bb0b-464d-a445-1dc7f1ac12ef"
      },
      "outputs": [
        {
          "output_type": "execute_result",
          "data": {
            "text/plain": [
              "array([[  0,   0,   0, ...,   0,  40,   2],\n",
              "       [  0,   0,   0, ...,   4,  16,   7],\n",
              "       [  0,   0,   0, ...,  27,  22, 166],\n",
              "       ...,\n",
              "       [  0,   0,   0, ...,  63, 329,   3],\n",
              "       [  0,   0,   0, ...,  26,  91, 132],\n",
              "       [  0,   0,   0, ..., 400, 467,   7]], dtype=int32)"
            ]
          },
          "metadata": {},
          "execution_count": 47
        }
      ],
      "source": [
        "X_learn"
      ]
    },
    {
      "cell_type": "code",
      "execution_count": null,
      "metadata": {
        "id": "SjPkVF3CzEh8",
        "colab": {
          "base_uri": "https://localhost:8080/",
          "height": 423
        },
        "outputId": "95bab713-8334-48a2-b783-e1631b15308c"
      },
      "outputs": [
        {
          "output_type": "execute_result",
          "data": {
            "text/plain": [
              "       0  1  2  3  4  5\n",
              "1      1  0  0  0  0  0\n",
              "2      0  1  0  0  0  0\n",
              "3      0  0  1  0  0  0\n",
              "4      1  0  0  0  0  0\n",
              "5      0  0  0  1  0  0\n",
              "...   .. .. .. .. .. ..\n",
              "9996   1  0  0  0  0  0\n",
              "9997   0  0  1  0  0  0\n",
              "9998   1  0  0  0  0  0\n",
              "9999   1  0  0  0  0  0\n",
              "10000  0  0  1  0  0  0\n",
              "\n",
              "[9787 rows x 6 columns]"
            ],
            "text/html": [
              "\n",
              "  <div id=\"df-87bf861d-9ba7-42ad-9e4e-9902ef4222b6\" class=\"colab-df-container\">\n",
              "    <div>\n",
              "<style scoped>\n",
              "    .dataframe tbody tr th:only-of-type {\n",
              "        vertical-align: middle;\n",
              "    }\n",
              "\n",
              "    .dataframe tbody tr th {\n",
              "        vertical-align: top;\n",
              "    }\n",
              "\n",
              "    .dataframe thead th {\n",
              "        text-align: right;\n",
              "    }\n",
              "</style>\n",
              "<table border=\"1\" class=\"dataframe\">\n",
              "  <thead>\n",
              "    <tr style=\"text-align: right;\">\n",
              "      <th></th>\n",
              "      <th>0</th>\n",
              "      <th>1</th>\n",
              "      <th>2</th>\n",
              "      <th>3</th>\n",
              "      <th>4</th>\n",
              "      <th>5</th>\n",
              "    </tr>\n",
              "  </thead>\n",
              "  <tbody>\n",
              "    <tr>\n",
              "      <th>1</th>\n",
              "      <td>1</td>\n",
              "      <td>0</td>\n",
              "      <td>0</td>\n",
              "      <td>0</td>\n",
              "      <td>0</td>\n",
              "      <td>0</td>\n",
              "    </tr>\n",
              "    <tr>\n",
              "      <th>2</th>\n",
              "      <td>0</td>\n",
              "      <td>1</td>\n",
              "      <td>0</td>\n",
              "      <td>0</td>\n",
              "      <td>0</td>\n",
              "      <td>0</td>\n",
              "    </tr>\n",
              "    <tr>\n",
              "      <th>3</th>\n",
              "      <td>0</td>\n",
              "      <td>0</td>\n",
              "      <td>1</td>\n",
              "      <td>0</td>\n",
              "      <td>0</td>\n",
              "      <td>0</td>\n",
              "    </tr>\n",
              "    <tr>\n",
              "      <th>4</th>\n",
              "      <td>1</td>\n",
              "      <td>0</td>\n",
              "      <td>0</td>\n",
              "      <td>0</td>\n",
              "      <td>0</td>\n",
              "      <td>0</td>\n",
              "    </tr>\n",
              "    <tr>\n",
              "      <th>5</th>\n",
              "      <td>0</td>\n",
              "      <td>0</td>\n",
              "      <td>0</td>\n",
              "      <td>1</td>\n",
              "      <td>0</td>\n",
              "      <td>0</td>\n",
              "    </tr>\n",
              "    <tr>\n",
              "      <th>...</th>\n",
              "      <td>...</td>\n",
              "      <td>...</td>\n",
              "      <td>...</td>\n",
              "      <td>...</td>\n",
              "      <td>...</td>\n",
              "      <td>...</td>\n",
              "    </tr>\n",
              "    <tr>\n",
              "      <th>9996</th>\n",
              "      <td>1</td>\n",
              "      <td>0</td>\n",
              "      <td>0</td>\n",
              "      <td>0</td>\n",
              "      <td>0</td>\n",
              "      <td>0</td>\n",
              "    </tr>\n",
              "    <tr>\n",
              "      <th>9997</th>\n",
              "      <td>0</td>\n",
              "      <td>0</td>\n",
              "      <td>1</td>\n",
              "      <td>0</td>\n",
              "      <td>0</td>\n",
              "      <td>0</td>\n",
              "    </tr>\n",
              "    <tr>\n",
              "      <th>9998</th>\n",
              "      <td>1</td>\n",
              "      <td>0</td>\n",
              "      <td>0</td>\n",
              "      <td>0</td>\n",
              "      <td>0</td>\n",
              "      <td>0</td>\n",
              "    </tr>\n",
              "    <tr>\n",
              "      <th>9999</th>\n",
              "      <td>1</td>\n",
              "      <td>0</td>\n",
              "      <td>0</td>\n",
              "      <td>0</td>\n",
              "      <td>0</td>\n",
              "      <td>0</td>\n",
              "    </tr>\n",
              "    <tr>\n",
              "      <th>10000</th>\n",
              "      <td>0</td>\n",
              "      <td>0</td>\n",
              "      <td>1</td>\n",
              "      <td>0</td>\n",
              "      <td>0</td>\n",
              "      <td>0</td>\n",
              "    </tr>\n",
              "  </tbody>\n",
              "</table>\n",
              "<p>9787 rows × 6 columns</p>\n",
              "</div>\n",
              "    <div class=\"colab-df-buttons\">\n",
              "\n",
              "  <div class=\"colab-df-container\">\n",
              "    <button class=\"colab-df-convert\" onclick=\"convertToInteractive('df-87bf861d-9ba7-42ad-9e4e-9902ef4222b6')\"\n",
              "            title=\"Convert this dataframe to an interactive table.\"\n",
              "            style=\"display:none;\">\n",
              "\n",
              "  <svg xmlns=\"http://www.w3.org/2000/svg\" height=\"24px\" viewBox=\"0 -960 960 960\">\n",
              "    <path d=\"M120-120v-720h720v720H120Zm60-500h600v-160H180v160Zm220 220h160v-160H400v160Zm0 220h160v-160H400v160ZM180-400h160v-160H180v160Zm440 0h160v-160H620v160ZM180-180h160v-160H180v160Zm440 0h160v-160H620v160Z\"/>\n",
              "  </svg>\n",
              "    </button>\n",
              "\n",
              "  <style>\n",
              "    .colab-df-container {\n",
              "      display:flex;\n",
              "      gap: 12px;\n",
              "    }\n",
              "\n",
              "    .colab-df-convert {\n",
              "      background-color: #E8F0FE;\n",
              "      border: none;\n",
              "      border-radius: 50%;\n",
              "      cursor: pointer;\n",
              "      display: none;\n",
              "      fill: #1967D2;\n",
              "      height: 32px;\n",
              "      padding: 0 0 0 0;\n",
              "      width: 32px;\n",
              "    }\n",
              "\n",
              "    .colab-df-convert:hover {\n",
              "      background-color: #E2EBFA;\n",
              "      box-shadow: 0px 1px 2px rgba(60, 64, 67, 0.3), 0px 1px 3px 1px rgba(60, 64, 67, 0.15);\n",
              "      fill: #174EA6;\n",
              "    }\n",
              "\n",
              "    .colab-df-buttons div {\n",
              "      margin-bottom: 4px;\n",
              "    }\n",
              "\n",
              "    [theme=dark] .colab-df-convert {\n",
              "      background-color: #3B4455;\n",
              "      fill: #D2E3FC;\n",
              "    }\n",
              "\n",
              "    [theme=dark] .colab-df-convert:hover {\n",
              "      background-color: #434B5C;\n",
              "      box-shadow: 0px 1px 3px 1px rgba(0, 0, 0, 0.15);\n",
              "      filter: drop-shadow(0px 1px 2px rgba(0, 0, 0, 0.3));\n",
              "      fill: #FFFFFF;\n",
              "    }\n",
              "  </style>\n",
              "\n",
              "    <script>\n",
              "      const buttonEl =\n",
              "        document.querySelector('#df-87bf861d-9ba7-42ad-9e4e-9902ef4222b6 button.colab-df-convert');\n",
              "      buttonEl.style.display =\n",
              "        google.colab.kernel.accessAllowed ? 'block' : 'none';\n",
              "\n",
              "      async function convertToInteractive(key) {\n",
              "        const element = document.querySelector('#df-87bf861d-9ba7-42ad-9e4e-9902ef4222b6');\n",
              "        const dataTable =\n",
              "          await google.colab.kernel.invokeFunction('convertToInteractive',\n",
              "                                                    [key], {});\n",
              "        if (!dataTable) return;\n",
              "\n",
              "        const docLinkHtml = 'Like what you see? Visit the ' +\n",
              "          '<a target=\"_blank\" href=https://colab.research.google.com/notebooks/data_table.ipynb>data table notebook</a>'\n",
              "          + ' to learn more about interactive tables.';\n",
              "        element.innerHTML = '';\n",
              "        dataTable['output_type'] = 'display_data';\n",
              "        await google.colab.output.renderOutput(dataTable, element);\n",
              "        const docLink = document.createElement('div');\n",
              "        docLink.innerHTML = docLinkHtml;\n",
              "        element.appendChild(docLink);\n",
              "      }\n",
              "    </script>\n",
              "  </div>\n",
              "\n",
              "\n",
              "<div id=\"df-66483de8-72c5-45a0-a86c-606c87d5327c\">\n",
              "  <button class=\"colab-df-quickchart\" onclick=\"quickchart('df-66483de8-72c5-45a0-a86c-606c87d5327c')\"\n",
              "            title=\"Suggest charts\"\n",
              "            style=\"display:none;\">\n",
              "\n",
              "<svg xmlns=\"http://www.w3.org/2000/svg\" height=\"24px\"viewBox=\"0 0 24 24\"\n",
              "     width=\"24px\">\n",
              "    <g>\n",
              "        <path d=\"M19 3H5c-1.1 0-2 .9-2 2v14c0 1.1.9 2 2 2h14c1.1 0 2-.9 2-2V5c0-1.1-.9-2-2-2zM9 17H7v-7h2v7zm4 0h-2V7h2v10zm4 0h-2v-4h2v4z\"/>\n",
              "    </g>\n",
              "</svg>\n",
              "  </button>\n",
              "\n",
              "<style>\n",
              "  .colab-df-quickchart {\n",
              "      --bg-color: #E8F0FE;\n",
              "      --fill-color: #1967D2;\n",
              "      --hover-bg-color: #E2EBFA;\n",
              "      --hover-fill-color: #174EA6;\n",
              "      --disabled-fill-color: #AAA;\n",
              "      --disabled-bg-color: #DDD;\n",
              "  }\n",
              "\n",
              "  [theme=dark] .colab-df-quickchart {\n",
              "      --bg-color: #3B4455;\n",
              "      --fill-color: #D2E3FC;\n",
              "      --hover-bg-color: #434B5C;\n",
              "      --hover-fill-color: #FFFFFF;\n",
              "      --disabled-bg-color: #3B4455;\n",
              "      --disabled-fill-color: #666;\n",
              "  }\n",
              "\n",
              "  .colab-df-quickchart {\n",
              "    background-color: var(--bg-color);\n",
              "    border: none;\n",
              "    border-radius: 50%;\n",
              "    cursor: pointer;\n",
              "    display: none;\n",
              "    fill: var(--fill-color);\n",
              "    height: 32px;\n",
              "    padding: 0;\n",
              "    width: 32px;\n",
              "  }\n",
              "\n",
              "  .colab-df-quickchart:hover {\n",
              "    background-color: var(--hover-bg-color);\n",
              "    box-shadow: 0 1px 2px rgba(60, 64, 67, 0.3), 0 1px 3px 1px rgba(60, 64, 67, 0.15);\n",
              "    fill: var(--button-hover-fill-color);\n",
              "  }\n",
              "\n",
              "  .colab-df-quickchart-complete:disabled,\n",
              "  .colab-df-quickchart-complete:disabled:hover {\n",
              "    background-color: var(--disabled-bg-color);\n",
              "    fill: var(--disabled-fill-color);\n",
              "    box-shadow: none;\n",
              "  }\n",
              "\n",
              "  .colab-df-spinner {\n",
              "    border: 2px solid var(--fill-color);\n",
              "    border-color: transparent;\n",
              "    border-bottom-color: var(--fill-color);\n",
              "    animation:\n",
              "      spin 1s steps(1) infinite;\n",
              "  }\n",
              "\n",
              "  @keyframes spin {\n",
              "    0% {\n",
              "      border-color: transparent;\n",
              "      border-bottom-color: var(--fill-color);\n",
              "      border-left-color: var(--fill-color);\n",
              "    }\n",
              "    20% {\n",
              "      border-color: transparent;\n",
              "      border-left-color: var(--fill-color);\n",
              "      border-top-color: var(--fill-color);\n",
              "    }\n",
              "    30% {\n",
              "      border-color: transparent;\n",
              "      border-left-color: var(--fill-color);\n",
              "      border-top-color: var(--fill-color);\n",
              "      border-right-color: var(--fill-color);\n",
              "    }\n",
              "    40% {\n",
              "      border-color: transparent;\n",
              "      border-right-color: var(--fill-color);\n",
              "      border-top-color: var(--fill-color);\n",
              "    }\n",
              "    60% {\n",
              "      border-color: transparent;\n",
              "      border-right-color: var(--fill-color);\n",
              "    }\n",
              "    80% {\n",
              "      border-color: transparent;\n",
              "      border-right-color: var(--fill-color);\n",
              "      border-bottom-color: var(--fill-color);\n",
              "    }\n",
              "    90% {\n",
              "      border-color: transparent;\n",
              "      border-bottom-color: var(--fill-color);\n",
              "    }\n",
              "  }\n",
              "</style>\n",
              "\n",
              "  <script>\n",
              "    async function quickchart(key) {\n",
              "      const quickchartButtonEl =\n",
              "        document.querySelector('#' + key + ' button');\n",
              "      quickchartButtonEl.disabled = true;  // To prevent multiple clicks.\n",
              "      quickchartButtonEl.classList.add('colab-df-spinner');\n",
              "      try {\n",
              "        const charts = await google.colab.kernel.invokeFunction(\n",
              "            'suggestCharts', [key], {});\n",
              "      } catch (error) {\n",
              "        console.error('Error during call to suggestCharts:', error);\n",
              "      }\n",
              "      quickchartButtonEl.classList.remove('colab-df-spinner');\n",
              "      quickchartButtonEl.classList.add('colab-df-quickchart-complete');\n",
              "    }\n",
              "    (() => {\n",
              "      let quickchartButtonEl =\n",
              "        document.querySelector('#df-66483de8-72c5-45a0-a86c-606c87d5327c button');\n",
              "      quickchartButtonEl.style.display =\n",
              "        google.colab.kernel.accessAllowed ? 'block' : 'none';\n",
              "    })();\n",
              "  </script>\n",
              "</div>\n",
              "    </div>\n",
              "  </div>\n"
            ]
          },
          "metadata": {},
          "execution_count": 45
        }
      ],
      "source": [
        "y_learn=pd.get_dummies(df[1])\n",
        "y_learn"
      ]
    },
    {
      "cell_type": "code",
      "execution_count": null,
      "metadata": {
        "id": "ZWX4VkMezW0J",
        "colab": {
          "base_uri": "https://localhost:8080/"
        },
        "outputId": "1dc36e0b-ec55-474a-c81b-88076d4a1284"
      },
      "outputs": [
        {
          "output_type": "stream",
          "name": "stdout",
          "text": [
            "Loaded 400000 word vectors.\n"
          ]
        }
      ],
      "source": [
        "embeddings_index = dict()\n",
        "f = open('/content/drive/MyDrive/glove.6B.200d.txt')\n",
        "for line in f:\n",
        "\tvalues = line.split()\n",
        "\tword = values[0]\n",
        "\tcoefs = np.asarray(values[1:], dtype='float32')\n",
        "\tembeddings_index[word] = coefs\n",
        "f.close()\n",
        "print('Loaded %s word vectors.' % len(embeddings_index))"
      ]
    },
    {
      "cell_type": "code",
      "execution_count": null,
      "metadata": {
        "id": "u9kxLCzrzbrj"
      },
      "outputs": [],
      "source": [
        "X_train, X_test, y_train, y_test = train_test_split(X_learn, y_learn, test_size=0.2, random_state=42)"
      ]
    },
    {
      "cell_type": "code",
      "execution_count": null,
      "metadata": {
        "id": "VDcy6TkPzfw9"
      },
      "outputs": [],
      "source": [
        "# create a weight matrix for words in training docs\n",
        "embedding_matrix = np.random.random((len(word_index)+1,200))\n",
        "for word, i in word_index.items():\n",
        "\tembedding_vector = embeddings_index.get(word)\n",
        "\tif embedding_vector is not None:\n",
        "\t\tembedding_matrix[i] = embedding_vector"
      ]
    },
    {
      "cell_type": "code",
      "execution_count": null,
      "metadata": {
        "id": "x8Tj3b8kzh-E",
        "colab": {
          "base_uri": "https://localhost:8080/"
        },
        "outputId": "4ed78ec7-a963-4b99-aa0e-c8598a1031f4"
      },
      "outputs": [
        {
          "output_type": "stream",
          "name": "stdout",
          "text": [
            "Model: \"sequential\"\n",
            "_________________________________________________________________\n",
            " Layer (type)                Output Shape              Param #   \n",
            "=================================================================\n",
            " embedding (Embedding)       (None, 181, 200)          2122000   \n",
            "                                                                 \n",
            " spatial_dropout1d (Spatial  (None, 181, 200)          0         \n",
            " Dropout1D)                                                      \n",
            "                                                                 \n",
            " lstm (LSTM)                 (None, 181, 100)          120400    \n",
            "                                                                 \n",
            " lstm_1 (LSTM)               (None, 181, 80)           57920     \n",
            "                                                                 \n",
            " lstm_2 (LSTM)               (None, 50)                26200     \n",
            "                                                                 \n",
            " dense (Dense)               (None, 6)                 306       \n",
            "                                                                 \n",
            "=================================================================\n",
            "Total params: 2326826 (8.88 MB)\n",
            "Trainable params: 2326826 (8.88 MB)\n",
            "Non-trainable params: 0 (0.00 Byte)\n",
            "_________________________________________________________________\n",
            "None\n"
          ]
        }
      ],
      "source": [
        "model = Sequential()\n",
        "model.add(Embedding(vocab_size, 200,weights=[embedding_matrix], input_shape = X_train[0].shape))\n",
        "model.add(SpatialDropout1D(0.002))\n",
        "model.add(LSTM(100,return_sequences=True))\n",
        "model.add(LSTM(80,return_sequences=True))\n",
        "model.add(LSTM(50))\n",
        "model.add(Dense(6,activation='softmax'))\n",
        "model.compile(loss = 'categorical_crossentropy', optimizer='adam', metrics = ['accuracy'])\n",
        "print(model.summary())"
      ]
    },
    {
      "cell_type": "code",
      "execution_count": null,
      "metadata": {
        "id": "3G-RxfH8znAe",
        "colab": {
          "base_uri": "https://localhost:8080/"
        },
        "outputId": "0fbe1dd2-662b-47b0-ed0a-5366177ad7cc"
      },
      "outputs": [
        {
          "output_type": "stream",
          "name": "stdout",
          "text": [
            "Epoch 1/10\n",
            "100/100 [==============================] - 16s 157ms/step - loss: 1.4091 - accuracy: 0.4322\n",
            "Epoch 2/10\n",
            "100/100 [==============================] - 8s 82ms/step - loss: 1.1014 - accuracy: 0.5816\n",
            "Epoch 3/10\n",
            "100/100 [==============================] - 5s 52ms/step - loss: 0.9746 - accuracy: 0.6334\n",
            "Epoch 4/10\n",
            "100/100 [==============================] - 5s 46ms/step - loss: 0.9772 - accuracy: 0.6375\n",
            "Epoch 5/10\n",
            "100/100 [==============================] - 4s 35ms/step - loss: 0.9802 - accuracy: 0.6294\n",
            "Epoch 6/10\n",
            "100/100 [==============================] - 3s 26ms/step - loss: 0.8894 - accuracy: 0.6712\n",
            "Epoch 7/10\n",
            "100/100 [==============================] - 2s 24ms/step - loss: 0.9277 - accuracy: 0.6628\n",
            "Epoch 8/10\n",
            "100/100 [==============================] - 3s 28ms/step - loss: 0.8841 - accuracy: 0.6808\n",
            "Epoch 9/10\n",
            "100/100 [==============================] - 3s 34ms/step - loss: 0.8658 - accuracy: 0.6797\n",
            "Epoch 10/10\n",
            "100/100 [==============================] - 3s 34ms/step - loss: 0.8303 - accuracy: 0.7096\n"
          ]
        },
        {
          "output_type": "execute_result",
          "data": {
            "text/plain": [
              "<keras.src.callbacks.History at 0x781d3ca511e0>"
            ]
          },
          "metadata": {},
          "execution_count": 52
        }
      ],
      "source": [
        "batch_size=32\n",
        "model.fit(X_train, y_train, epochs =10,steps_per_epoch=100, batch_size=batch_size, verbose = 'auto')"
      ]
    },
    {
      "cell_type": "code",
      "execution_count": null,
      "metadata": {
        "id": "8kLaXtngzy1U",
        "colab": {
          "base_uri": "https://localhost:8080/"
        },
        "outputId": "da841a8c-3661-4768-889f-92bf28b8c6cf"
      },
      "outputs": [
        {
          "output_type": "stream",
          "name": "stdout",
          "text": [
            "62/62 [==============================] - 2s 10ms/step\n"
          ]
        }
      ],
      "source": [
        "y_pred=model.predict(X_test)\n",
        "y_pred=np.argmax(y_pred,axis=1)"
      ]
    },
    {
      "cell_type": "code",
      "execution_count": null,
      "metadata": {
        "id": "IGYcca7TIUv_"
      },
      "outputs": [],
      "source": [
        "y_test=y_test.to_numpy()\n",
        "y_test=np.argmax(y_test,axis=1)"
      ]
    },
    {
      "cell_type": "code",
      "execution_count": null,
      "metadata": {
        "id": "VqgwBD9MIgYY",
        "colab": {
          "base_uri": "https://localhost:8080/"
        },
        "outputId": "97dbaff2-7282-4573-8cf0-c3e547158f2e"
      },
      "outputs": [
        {
          "output_type": "stream",
          "name": "stdout",
          "text": [
            "[[572  10  26  94   0   0]\n",
            " [ 30 102  41  16   0   0]\n",
            " [ 58 100 347 127   0   3]\n",
            " [ 25  16  59 208   0   3]\n",
            " [  4   2  10  11   0   0]\n",
            " [ 23   3  19  48   0   1]]\n",
            "              precision    recall  f1-score   support\n",
            "\n",
            "           0   0.803371  0.814815  0.809052       702\n",
            "           1   0.437768  0.539683  0.483412       189\n",
            "           2   0.691235  0.546457  0.610378       635\n",
            "           3   0.412698  0.668810  0.510429       311\n",
            "           4   0.000000  0.000000  0.000000        27\n",
            "           5   0.142857  0.010638  0.019802        94\n",
            "\n",
            "    accuracy                       0.628192      1958\n",
            "   macro avg   0.414655  0.430067  0.405512      1958\n",
            "weighted avg   0.626873  0.628192  0.616708      1958\n",
            "\n"
          ]
        }
      ],
      "source": [
        "from sklearn import metrics\n",
        "\n",
        "# Print the confusion matrix\n",
        "print(metrics.confusion_matrix(y_test, y_pred))\n",
        "\n",
        "# Print the precision and recall, among other metrics\n",
        "print(metrics.classification_report(y_test, y_pred, digits=6))"
      ]
    },
    {
      "cell_type": "code",
      "execution_count": null,
      "metadata": {
        "id": "RkLF1wqp-mdQ"
      },
      "outputs": [],
      "source": [
        "import torch\n",
        "import torch.nn as nn\n",
        "from transformers import BertModel, BertTokenizer"
      ]
    },
    {
      "cell_type": "code",
      "execution_count": null,
      "metadata": {
        "id": "GPPTHN0zQWYY"
      },
      "outputs": [],
      "source": [
        "device = torch.device(\"cuda\" if torch.cuda.is_available() else \"cpu\")"
      ]
    },
    {
      "cell_type": "code",
      "execution_count": null,
      "metadata": {
        "id": "f2IhBGBq8KBn"
      },
      "outputs": [],
      "source": [
        "# Load pre-trained BERT model and tokenizer\n",
        "model_name = 'bert-base-uncased'\n",
        "tokenizer = BertTokenizer.from_pretrained(model_name)\n",
        "bert_model = BertModel.from_pretrained(model_name)\n",
        "\n",
        "# Custom BERT model without additional embeddings\n",
        "class CustomBERT(nn.Module):\n",
        "    def __init__(self, bert_model):\n",
        "        super(CustomBERT, self).__init__()\n",
        "        self.bert = bert_model\n",
        "\n",
        "    def forward(self, input_ids, attention_mask):\n",
        "        outputs = self.bert(input_ids=input_ids, attention_mask=attention_mask)\n",
        "        # Process further or return the outputs\n",
        "\n",
        "        return outputs\n",
        "\n",
        "custom_bert= CustomBERT(bert_model).to(device)\n"
      ]
    },
    {
      "cell_type": "code",
      "execution_count": null,
      "metadata": {
        "id": "48lsyYWR_LIs"
      },
      "outputs": [],
      "source": [
        "X_train, X_test, y_train, y_test = train_test_split(df[0], df[1], test_size=0.2, random_state=42)"
      ]
    },
    {
      "cell_type": "code",
      "execution_count": null,
      "metadata": {
        "id": "j8EDkGSfC8VD"
      },
      "outputs": [],
      "source": [
        "X_train = X_train.astype(str).tolist()\n",
        "X_test = X_test.astype(str).tolist()"
      ]
    },
    {
      "cell_type": "code",
      "execution_count": null,
      "metadata": {
        "id": "bvlxwbInMHpm"
      },
      "outputs": [],
      "source": [
        "y_train=torch.tensor(y_train.values)\n",
        "y_test=torch.tensor(y_test.values)"
      ]
    },
    {
      "cell_type": "code",
      "execution_count": null,
      "metadata": {
        "id": "bHH-_-1JFbp3"
      },
      "outputs": [],
      "source": [
        "tokenized_train = tokenizer(X_train, padding=True, truncation=True, return_tensors='pt')\n",
        "tokenized_test = tokenizer(X_test, padding=True, truncation=True, return_tensors='pt')\n",
        "\n",
        "# Get the token IDs and attention masks\n",
        "X_train_ids = tokenized_train['input_ids']\n",
        "X_train_masks = tokenized_train['attention_mask']\n",
        "X_test_ids = tokenized_test['input_ids']\n",
        "X_test_masks = tokenized_test['attention_mask']\n",
        "\n",
        "\n",
        "# Define the datasets\n",
        "train_dataset = torch.utils.data.TensorDataset(X_train_ids, X_train_masks, y_train)\n",
        "test_dataset = torch.utils.data.TensorDataset(X_test_ids, X_test_masks, y_test)\n",
        "\n"
      ]
    },
    {
      "cell_type": "code",
      "execution_count": null,
      "metadata": {
        "id": "mT9CN7jkLMrA"
      },
      "outputs": [],
      "source": [
        "# Create data loaders\n",
        "train_loader = torch.utils.data.DataLoader(train_dataset, batch_size=2, shuffle=True)\n",
        "test_loader = torch.utils.data.DataLoader(test_dataset, batch_size=2, shuffle=False)"
      ]
    },
    {
      "cell_type": "code",
      "execution_count": null,
      "metadata": {
        "colab": {
          "background_save": true,
          "base_uri": "https://localhost:8080/"
        },
        "id": "xPmQoqyz_rPG",
        "outputId": "16d53867-1ea0-4046-a2ad-6ad8076e4c14"
      },
      "outputs": [
        {
          "name": "stdout",
          "output_type": "stream",
          "text": [
            "Epoch 1, Loss: 1.3220213457995533\n",
            "Epoch 2, Loss: 0.8646713964915852\n",
            "Epoch 3, Loss: 0.5768157337208804\n",
            "Epoch 4, Loss: 0.36311866716304225\n",
            "Epoch 5, Loss: 0.21327596505782578\n",
            "Epoch 6, Loss: 0.15298189984113103\n",
            "Epoch 7, Loss: 0.11581721108252603\n",
            "Epoch 8, Loss: 0.09425166014990859\n",
            "Epoch 9, Loss: 0.0863807827382575\n",
            "Epoch 10, Loss: 0.07647898026488842\n",
            "Accuracy on test set: 0.6598569969356486\n"
          ]
        }
      ],
      "source": [
        "# Define the loss function and optimizer\n",
        "criterion = nn.CrossEntropyLoss()\n",
        "optimizer = torch.optim.AdamW(custom_bert.parameters(), lr=1e-5)\n",
        "\n",
        "\n",
        "custom_bert.train()\n",
        "for epoch in range(10):\n",
        "    running_loss = 0.0\n",
        "    total_batches = len(train_loader)\n",
        "    for batch_idx, batch in enumerate(train_loader):\n",
        "        inputs, masks, labels = batch\n",
        "        inputs = inputs.to(device)\n",
        "        masks = masks.to(device)\n",
        "        labels = labels.to(device)\n",
        "\n",
        "        optimizer.zero_grad()\n",
        "\n",
        "        outputs = custom_bert(inputs, attention_mask=masks)\n",
        "        logits = outputs.last_hidden_state[:, 0, :]\n",
        "\n",
        "        loss = criterion(logits, labels)\n",
        "        loss.backward()\n",
        "        optimizer.step()\n",
        "\n",
        "        running_loss += loss.item()\n",
        "\n",
        "    average_loss = running_loss / total_batches\n",
        "    print(f\"Epoch {epoch + 1}, Loss: {average_loss}\")\n",
        "\n",
        "# Evaluation on test set\n",
        "custom_bert.eval()\n",
        "correct = 0\n",
        "total = 0\n",
        "\n",
        "with torch.no_grad():\n",
        "    for batch in test_loader:\n",
        "        inputs, masks, labels = batch\n",
        "        inputs = inputs.to(device)\n",
        "        masks = masks.to(device)\n",
        "        labels = labels.to(device)\n",
        "\n",
        "        outputs = custom_bert(inputs, attention_mask=masks)\n",
        "        logits = outputs.last_hidden_state[:, 0, :]\n",
        "        _, predicted = torch.max(logits, 1)\n",
        "\n",
        "        total += labels.size(0)\n",
        "        correct += (predicted == labels).sum().item()\n",
        "\n",
        "accuracy = correct / total\n",
        "print(f\"Accuracy on test set: {accuracy}\")\n"
      ]
    },
    {
      "cell_type": "code",
      "execution_count": null,
      "metadata": {
        "id": "RucQp1SCgdeY"
      },
      "outputs": [],
      "source": []
    }
  ],
  "metadata": {
    "accelerator": "GPU",
    "colab": {
      "provenance": [],
      "authorship_tag": "ABX9TyNtbYFE1tIWnJuIDQdHGIn2",
      "include_colab_link": true
    },
    "kernelspec": {
      "display_name": "Python 3",
      "name": "python3"
    },
    "language_info": {
      "name": "python"
    }
  },
  "nbformat": 4,
  "nbformat_minor": 0
}